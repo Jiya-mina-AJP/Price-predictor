{
 "cells": [
  {
   "cell_type": "code",
   "execution_count": 2,
   "id": "02607a77-656d-4249-a0ee-99fecfae1949",
   "metadata": {},
   "outputs": [],
   "source": [
    "from flask import Flask, render_template, request\n",
    "import pickle\n",
    "import numpy as np"
   ]
  },
  {
   "cell_type": "code",
   "execution_count": 3,
   "id": "bbd81472-4d8e-442c-af9a-85a30b8c65d1",
   "metadata": {},
   "outputs": [],
   "source": [
    "app = Flask(__name__)"
   ]
  },
  {
   "cell_type": "code",
   "execution_count": 4,
   "id": "44948fbb-f7a3-48c5-bd0d-22c1c7158f3f",
   "metadata": {},
   "outputs": [],
   "source": [
    "pipe = pickle.load(open('RidgeModel.pkl', 'rb'))"
   ]
  },
  {
   "cell_type": "code",
   "execution_count": 5,
   "id": "11c95607-5c14-4596-a1d7-7880dbd4c8d1",
   "metadata": {},
   "outputs": [],
   "source": [
    "locations = [\n",
    "    'Whitefield', 'Sarjapur  Road', 'Electronic City', 'Raja Rajeshwari Nagar',\n",
    "    'Marathahalli', '7th Phase JP Nagar', 'Kanakpura Road', 'Uttarahalli',\n",
    "    'Thanisandra', 'Hebbal', 'Bannerghatta Road', 'Yelahanka', 'Hennur Road',\n",
    "    'Electronic City Phase II', 'Haralur Road', 'Rajaji Nagar', 'Bellandur',\n",
    "    'KR Puram', 'Electronics City Phase 1', 'Hoodi', 'Harlur', 'Kalena Agrahara',\n",
    "    'Horamavu', 'Begur Road', 'Kengeri', 'Gottigere', 'Varthur', 'Ramamurthy Nagar',\n",
    "    'Kaggadasapura', 'Old Airport Road'\n",
    "]\n"
   ]
  },
  {
   "cell_type": "code",
   "execution_count": 7,
   "id": "9b53880e-ca82-4e19-b32d-9332c333891a",
   "metadata": {},
   "outputs": [],
   "source": [
    "@app.route('/')\n",
    "def index():\n",
    "    return render_template('index.html', locations=locations)\n",
    "\n"
   ]
  },
  {
   "cell_type": "code",
   "execution_count": 8,
   "id": "61909759-463c-49bc-807c-c8bd71734c61",
   "metadata": {},
   "outputs": [],
   "source": [
    "@app.route('/predict', methods=['POST'])\n",
    "def predict():\n",
    "    location = request.form['location']\n",
    "    bhk = int(request.form['bhk'])\n",
    "    bath = int(request.form['bath'])\n",
    "    sqft = float(request.form['sqft'])\n",
    "\n",
    "    # Match model input format\n",
    "    input_data = np.array([[location, bhk, bath, sqft]])\n",
    "\n",
    "    # Make prediction\n",
    "    prediction = pipe.predict(input_data)[0]\n",
    "    output = round(prediction, 2)\n",
    "\n",
    "    return render_template('index.html', prediction_text=f\"Estimated Price: ₹{output} lakhs\", locations=locations)\n"
   ]
  },
  {
   "cell_type": "code",
   "execution_count": 9,
   "id": "a4bc5323-5135-4fc6-88fc-93ab863ecfbc",
   "metadata": {},
   "outputs": [
    {
     "name": "stdout",
     "output_type": "stream",
     "text": [
      " * Serving Flask app '__main__'\n",
      " * Debug mode: on\n"
     ]
    },
    {
     "name": "stderr",
     "output_type": "stream",
     "text": [
      "WARNING: This is a development server. Do not use it in a production deployment. Use a production WSGI server instead.\n",
      " * Running on http://127.0.0.1:5000\n",
      "Press CTRL+C to quit\n",
      " * Restarting with stat\n"
     ]
    },
    {
     "ename": "SystemExit",
     "evalue": "1",
     "output_type": "error",
     "traceback": [
      "An exception has occurred, use %tb to see the full traceback.\n",
      "\u001b[31mSystemExit\u001b[39m\u001b[31m:\u001b[39m 1\n"
     ]
    },
    {
     "name": "stderr",
     "output_type": "stream",
     "text": [
      "C:\\Users\\DELL\\AppData\\Local\\Programs\\Python\\Python313\\Lib\\site-packages\\IPython\\core\\interactiveshell.py:3675: UserWarning: To exit: use 'exit', 'quit', or Ctrl-D.\n",
      "  warn(\"To exit: use 'exit', 'quit', or Ctrl-D.\", stacklevel=1)\n"
     ]
    }
   ],
   "source": [
    "if __name__ == '__main__':\n",
    "    app.run(debug=True)"
   ]
  },
  {
   "cell_type": "code",
   "execution_count": null,
   "id": "bd81f1ba-b80a-4747-9f3f-0468835d39d2",
   "metadata": {},
   "outputs": [],
   "source": []
  }
 ],
 "metadata": {
  "kernelspec": {
   "display_name": "Python 3 (ipykernel)",
   "language": "python",
   "name": "python3"
  },
  "language_info": {
   "codemirror_mode": {
    "name": "ipython",
    "version": 3
   },
   "file_extension": ".py",
   "mimetype": "text/x-python",
   "name": "python",
   "nbconvert_exporter": "python",
   "pygments_lexer": "ipython3",
   "version": "3.13.3"
  }
 },
 "nbformat": 4,
 "nbformat_minor": 5
}
